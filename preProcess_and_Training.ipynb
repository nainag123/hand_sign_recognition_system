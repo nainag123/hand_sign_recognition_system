{
 "cells": [
  {
   "cell_type": "code",
   "execution_count": 1,
   "metadata": {},
   "outputs": [],
   "source": [
    "import numpy as np\n",
    "import os\n",
    "from sklearn.model_selection import train_test_split\n",
    "from tensorflow.keras.utils import to_categorical\n"
   ]
  },
  {
   "cell_type": "code",
   "execution_count": 2,
   "metadata": {},
   "outputs": [],
   "source": [
    "data_path = os.path.join(\"model_data\")\n",
    "\n",
    "actions = []\n",
    "\n",
    "for i in range(65,91):\n",
    "    actions.append(chr(i))\n",
    "\n",
    "sequences_no = 60\n",
    "\n",
    "sequences_length = 30"
   ]
  },
  {
   "cell_type": "code",
   "execution_count": 3,
   "metadata": {},
   "outputs": [],
   "source": [
    "actions = np.array(actions)"
   ]
  },
  {
   "cell_type": "code",
   "execution_count": 39,
   "metadata": {},
   "outputs": [],
   "source": [
    "# actions = np.array(['A','B'])"
   ]
  },
  {
   "cell_type": "code",
   "execution_count": 4,
   "metadata": {},
   "outputs": [
    {
     "data": {
      "text/plain": [
       "array(['A', 'B', 'C', 'D', 'E', 'F', 'G', 'H', 'I', 'J', 'K', 'L', 'M',\n",
       "       'N', 'O', 'P', 'Q', 'R', 'S', 'T', 'U', 'V', 'W', 'X', 'Y', 'Z'],\n",
       "      dtype='<U1')"
      ]
     },
     "execution_count": 4,
     "metadata": {},
     "output_type": "execute_result"
    }
   ],
   "source": [
    "actions"
   ]
  },
  {
   "cell_type": "code",
   "execution_count": 5,
   "metadata": {},
   "outputs": [
    {
     "data": {
      "text/plain": [
       "'model_data'"
      ]
     },
     "execution_count": 5,
     "metadata": {},
     "output_type": "execute_result"
    }
   ],
   "source": [
    "data_path"
   ]
  },
  {
   "cell_type": "code",
   "execution_count": 6,
   "metadata": {},
   "outputs": [],
   "source": [
    "label_map = {}\n",
    "i = 0\n",
    "for num in actions:\n",
    "    label_map[num] = i\n",
    "    i += 1\n"
   ]
  },
  {
   "cell_type": "code",
   "execution_count": 7,
   "metadata": {},
   "outputs": [
    {
     "data": {
      "text/plain": [
       "{'A': 0,\n",
       " 'B': 1,\n",
       " 'C': 2,\n",
       " 'D': 3,\n",
       " 'E': 4,\n",
       " 'F': 5,\n",
       " 'G': 6,\n",
       " 'H': 7,\n",
       " 'I': 8,\n",
       " 'J': 9,\n",
       " 'K': 10,\n",
       " 'L': 11,\n",
       " 'M': 12,\n",
       " 'N': 13,\n",
       " 'O': 14,\n",
       " 'P': 15,\n",
       " 'Q': 16,\n",
       " 'R': 17,\n",
       " 'S': 18,\n",
       " 'T': 19,\n",
       " 'U': 20,\n",
       " 'V': 21,\n",
       " 'W': 22,\n",
       " 'X': 23,\n",
       " 'Y': 24,\n",
       " 'Z': 25}"
      ]
     },
     "execution_count": 7,
     "metadata": {},
     "output_type": "execute_result"
    }
   ],
   "source": [
    "label_map"
   ]
  },
  {
   "cell_type": "code",
   "execution_count": 8,
   "metadata": {},
   "outputs": [],
   "source": [
    "sequences, labels = [], []\n",
    "for action in actions:\n",
    "    for sequence in range(sequences_no):\n",
    "        window = []\n",
    "        for frame_num in range(sequences_length):\n",
    "            path = os.path.join(data_path,str(action),str(sequence),\"{}.npy\".format(frame_num))\n",
    "            res = np.load(path)\n",
    "            window.append(res)\n",
    "        sequences.append(window)\n",
    "        labels.append(label_map[action])"
   ]
  },
  {
   "cell_type": "code",
   "execution_count": 9,
   "metadata": {},
   "outputs": [],
   "source": [
    "X = np.array(sequences)"
   ]
  },
  {
   "cell_type": "code",
   "execution_count": 10,
   "metadata": {},
   "outputs": [
    {
     "data": {
      "text/plain": [
       "(1560, 30, 126)"
      ]
     },
     "execution_count": 10,
     "metadata": {},
     "output_type": "execute_result"
    }
   ],
   "source": [
    "X.shape"
   ]
  },
  {
   "cell_type": "code",
   "execution_count": 11,
   "metadata": {},
   "outputs": [],
   "source": [
    "y = to_categorical(labels).astype(int)"
   ]
  },
  {
   "cell_type": "code",
   "execution_count": 12,
   "metadata": {},
   "outputs": [
    {
     "data": {
      "text/plain": [
       "array([[1, 0, 0, ..., 0, 0, 0],\n",
       "       [1, 0, 0, ..., 0, 0, 0],\n",
       "       [1, 0, 0, ..., 0, 0, 0],\n",
       "       ...,\n",
       "       [0, 0, 0, ..., 0, 0, 1],\n",
       "       [0, 0, 0, ..., 0, 0, 1],\n",
       "       [0, 0, 0, ..., 0, 0, 1]])"
      ]
     },
     "execution_count": 12,
     "metadata": {},
     "output_type": "execute_result"
    }
   ],
   "source": [
    "y"
   ]
  },
  {
   "cell_type": "code",
   "execution_count": 13,
   "metadata": {},
   "outputs": [],
   "source": [
    "X_train, X_test, y_train, y_test = train_test_split(X, y, test_size=0.1)"
   ]
  },
  {
   "cell_type": "code",
   "execution_count": 14,
   "metadata": {},
   "outputs": [
    {
     "data": {
      "text/plain": [
       "array([[[ 0.00000000e+00,  0.00000000e+00,  0.00000000e+00, ...,\n",
       "          2.22881138e-01,  3.71437967e-01, -3.40468027e-02],\n",
       "        [ 0.00000000e+00,  0.00000000e+00,  0.00000000e+00, ...,\n",
       "          2.23143145e-01,  3.71372759e-01, -3.37136276e-02],\n",
       "        [ 0.00000000e+00,  0.00000000e+00,  0.00000000e+00, ...,\n",
       "          2.23130465e-01,  3.71641994e-01, -3.37862186e-02],\n",
       "        ...,\n",
       "        [ 0.00000000e+00,  0.00000000e+00,  0.00000000e+00, ...,\n",
       "          2.22770616e-01,  3.73515278e-01, -3.49466354e-02],\n",
       "        [ 0.00000000e+00,  0.00000000e+00,  0.00000000e+00, ...,\n",
       "          2.23480240e-01,  3.72662961e-01, -3.18816490e-02],\n",
       "        [ 0.00000000e+00,  0.00000000e+00,  0.00000000e+00, ...,\n",
       "          2.22698271e-01,  3.73246878e-01, -3.47904339e-02]],\n",
       "\n",
       "       [[ 6.37011707e-01,  5.01522601e-01,  1.18516638e-07, ...,\n",
       "          5.49078763e-01,  6.80177093e-01, -4.39829044e-02],\n",
       "        [ 6.37052298e-01,  5.01438737e-01,  1.18709238e-07, ...,\n",
       "          5.48539400e-01,  6.75391078e-01, -4.54512313e-02],\n",
       "        [ 6.37074769e-01,  5.01280367e-01,  1.15636652e-07, ...,\n",
       "          5.48886597e-01,  6.80182099e-01, -4.37819622e-02],\n",
       "        ...,\n",
       "        [ 6.36808276e-01,  5.01552284e-01,  1.27218655e-07, ...,\n",
       "          5.48999190e-01,  6.76261246e-01, -4.65014800e-02],\n",
       "        [ 6.37135565e-01,  5.01921833e-01,  1.15010579e-07, ...,\n",
       "          5.49173832e-01,  6.79712355e-01, -4.38002646e-02],\n",
       "        [ 6.36839986e-01,  5.01627982e-01,  1.27100634e-07, ...,\n",
       "          5.48864484e-01,  6.76285148e-01, -4.66871634e-02]],\n",
       "\n",
       "       [[ 0.00000000e+00,  0.00000000e+00,  0.00000000e+00, ...,\n",
       "          3.93256217e-01,  3.06681424e-01, -3.44004259e-02],\n",
       "        [ 0.00000000e+00,  0.00000000e+00,  0.00000000e+00, ...,\n",
       "          3.93252283e-01,  3.07268351e-01, -3.65546197e-02],\n",
       "        [ 0.00000000e+00,  0.00000000e+00,  0.00000000e+00, ...,\n",
       "          3.93273324e-01,  3.08655173e-01, -3.64413932e-02],\n",
       "        ...,\n",
       "        [ 0.00000000e+00,  0.00000000e+00,  0.00000000e+00, ...,\n",
       "          3.93253118e-01,  3.06456029e-01, -3.42848375e-02],\n",
       "        [ 0.00000000e+00,  0.00000000e+00,  0.00000000e+00, ...,\n",
       "          3.93243015e-01,  3.07186306e-01, -3.65697965e-02],\n",
       "        [ 0.00000000e+00,  0.00000000e+00,  0.00000000e+00, ...,\n",
       "          3.93360913e-01,  3.08943957e-01, -3.61817330e-02]],\n",
       "\n",
       "       ...,\n",
       "\n",
       "       [[ 5.42014122e-01,  7.48439610e-01, -2.23989758e-07, ...,\n",
       "          6.33072197e-01,  8.74569416e-01, -8.01052302e-02],\n",
       "        [ 5.41763067e-01,  7.49839485e-01, -2.43980310e-07, ...,\n",
       "          6.32600427e-01,  8.75919819e-01, -7.94598609e-02],\n",
       "        [ 5.41596055e-01,  7.50127494e-01, -2.41734313e-07, ...,\n",
       "          6.32870913e-01,  8.78938675e-01, -7.94636235e-02],\n",
       "        ...,\n",
       "        [ 5.66077292e-01,  7.45600641e-01, -1.22049570e-07, ...,\n",
       "          6.32216275e-01,  8.77475619e-01, -8.13310593e-02],\n",
       "        [ 5.66645086e-01,  7.47524142e-01, -1.31831300e-07, ...,\n",
       "          6.32647276e-01,  8.74794960e-01, -7.94977844e-02],\n",
       "        [ 5.65288842e-01,  7.46959746e-01, -1.30132548e-07, ...,\n",
       "          6.32364690e-01,  8.77648354e-01, -7.99594745e-02]],\n",
       "\n",
       "       [[ 7.05793083e-01,  7.57176578e-01, -2.77244482e-07, ...,\n",
       "          7.04026818e-01,  3.69162202e-01,  3.13915708e-03],\n",
       "        [ 7.06219852e-01,  7.58389831e-01, -2.80025091e-07, ...,\n",
       "          7.04429567e-01,  3.67351353e-01, -3.01212654e-03],\n",
       "        [ 7.06475675e-01,  7.58497953e-01, -2.79867777e-07, ...,\n",
       "          7.03775108e-01,  3.70551974e-01,  2.45174975e-03],\n",
       "        ...,\n",
       "        [ 7.06185937e-01,  7.58583903e-01, -2.79908534e-07, ...,\n",
       "          7.03885019e-01,  3.69797647e-01, -1.44336605e-03],\n",
       "        [ 7.06019402e-01,  7.57019997e-01, -2.77983105e-07, ...,\n",
       "          7.04247534e-01,  3.68499070e-01,  4.51832172e-03],\n",
       "        [ 7.05658376e-01,  7.56879687e-01, -2.79336717e-07, ...,\n",
       "          7.04153717e-01,  3.67914021e-01, -1.99356722e-03]],\n",
       "\n",
       "       [[ 5.84784210e-01,  3.48595172e-01, -2.88659891e-07, ...,\n",
       "          4.82533425e-01,  7.17289448e-01, -4.45286557e-02],\n",
       "        [ 5.86227536e-01,  3.58146489e-01, -3.21770557e-07, ...,\n",
       "          4.83335435e-01,  7.16503978e-01, -4.53609526e-02],\n",
       "        [ 5.83362043e-01,  3.50976944e-01, -2.86861280e-07, ...,\n",
       "          4.81957316e-01,  7.15488017e-01, -4.57246862e-02],\n",
       "        ...,\n",
       "        [ 5.82817912e-01,  3.55258197e-01, -2.63423146e-07, ...,\n",
       "          4.82388705e-01,  7.15222716e-01, -4.53679450e-02],\n",
       "        [ 5.87186635e-01,  3.60617578e-01, -3.27338057e-07, ...,\n",
       "          4.82346326e-01,  7.16892958e-01, -4.50197123e-02],\n",
       "        [ 5.89433670e-01,  3.56418431e-01, -3.47091287e-07, ...,\n",
       "          4.82462347e-01,  7.16825962e-01, -4.45845537e-02]]])"
      ]
     },
     "execution_count": 14,
     "metadata": {},
     "output_type": "execute_result"
    }
   ],
   "source": [
    "X_train"
   ]
  },
  {
   "cell_type": "markdown",
   "metadata": {},
   "source": [
    "Traning Neural Network (LSTM)"
   ]
  },
  {
   "cell_type": "code",
   "execution_count": 15,
   "metadata": {},
   "outputs": [],
   "source": [
    "from tensorflow.keras.models import Sequential\n",
    "from tensorflow.keras.layers import LSTM, Dense, Dropout, BatchNormalization"
   ]
  },
  {
   "cell_type": "code",
   "execution_count": 16,
   "metadata": {},
   "outputs": [
    {
     "name": "stderr",
     "output_type": "stream",
     "text": [
      "c:\\Users\\agarw\\AppData\\Local\\Programs\\Python\\Python311\\Lib\\site-packages\\keras\\src\\layers\\rnn\\rnn.py:204: UserWarning: Do not pass an `input_shape`/`input_dim` argument to a layer. When using Sequential models, prefer using an `Input(shape)` object as the first layer in the model instead.\n",
      "  super().__init__(**kwargs)\n"
     ]
    }
   ],
   "source": [
    "model = Sequential()\n",
    "\n",
    "model.add(LSTM(128, return_sequences=True, activation='relu', input_shape=(30,126)))\n",
    "model.add(BatchNormalization())\n",
    "\n",
    "model.add(LSTM(256, return_sequences=True, activation='relu'))\n",
    "model.add(BatchNormalization())\n",
    "\n",
    "model.add(LSTM(128, return_sequences=False, activation='relu'))\n",
    "\n",
    "model.add(Dense(128, activation='relu'))\n",
    "model.add(Dropout(0.2))\n",
    "\n",
    "model.add(Dense(64, activation = 'relu'))\n",
    "\n",
    "model.add(Dense(32, activation = 'relu'))\n",
    "\n",
    "model.add(Dense(actions.shape[0], activation='softmax'))"
   ]
  },
  {
   "cell_type": "code",
   "execution_count": 17,
   "metadata": {},
   "outputs": [],
   "source": [
    "from keras.optimizers import Adam\n",
    "optimizer = Adam(learning_rate=0.0001)"
   ]
  },
  {
   "cell_type": "code",
   "execution_count": 18,
   "metadata": {},
   "outputs": [],
   "source": [
    "model.compile(optimizer=optimizer, loss=\"categorical_crossentropy\", metrics=['categorical_accuracy'])"
   ]
  },
  {
   "cell_type": "code",
   "execution_count": 20,
   "metadata": {},
   "outputs": [
    {
     "data": {
      "text/html": [
       "<pre style=\"white-space:pre;overflow-x:auto;line-height:normal;font-family:Menlo,'DejaVu Sans Mono',consolas,'Courier New',monospace\"><span style=\"font-weight: bold\">Model: \"sequential\"</span>\n",
       "</pre>\n"
      ],
      "text/plain": [
       "\u001b[1mModel: \"sequential\"\u001b[0m\n"
      ]
     },
     "metadata": {},
     "output_type": "display_data"
    },
    {
     "data": {
      "text/html": [
       "<pre style=\"white-space:pre;overflow-x:auto;line-height:normal;font-family:Menlo,'DejaVu Sans Mono',consolas,'Courier New',monospace\">┏━━━━━━━━━━━━━━━━━━━━━━━━━━━━━━━━━┳━━━━━━━━━━━━━━━━━━━━━━━━┳━━━━━━━━━━━━━━━┓\n",
       "┃<span style=\"font-weight: bold\"> Layer (type)                    </span>┃<span style=\"font-weight: bold\"> Output Shape           </span>┃<span style=\"font-weight: bold\">       Param # </span>┃\n",
       "┡━━━━━━━━━━━━━━━━━━━━━━━━━━━━━━━━━╇━━━━━━━━━━━━━━━━━━━━━━━━╇━━━━━━━━━━━━━━━┩\n",
       "│ lstm (<span style=\"color: #0087ff; text-decoration-color: #0087ff\">LSTM</span>)                     │ (<span style=\"color: #00d7ff; text-decoration-color: #00d7ff\">None</span>, <span style=\"color: #00af00; text-decoration-color: #00af00\">30</span>, <span style=\"color: #00af00; text-decoration-color: #00af00\">128</span>)        │       <span style=\"color: #00af00; text-decoration-color: #00af00\">130,560</span> │\n",
       "├─────────────────────────────────┼────────────────────────┼───────────────┤\n",
       "│ batch_normalization             │ (<span style=\"color: #00d7ff; text-decoration-color: #00d7ff\">None</span>, <span style=\"color: #00af00; text-decoration-color: #00af00\">30</span>, <span style=\"color: #00af00; text-decoration-color: #00af00\">128</span>)        │           <span style=\"color: #00af00; text-decoration-color: #00af00\">512</span> │\n",
       "│ (<span style=\"color: #0087ff; text-decoration-color: #0087ff\">BatchNormalization</span>)            │                        │               │\n",
       "├─────────────────────────────────┼────────────────────────┼───────────────┤\n",
       "│ lstm_1 (<span style=\"color: #0087ff; text-decoration-color: #0087ff\">LSTM</span>)                   │ (<span style=\"color: #00d7ff; text-decoration-color: #00d7ff\">None</span>, <span style=\"color: #00af00; text-decoration-color: #00af00\">30</span>, <span style=\"color: #00af00; text-decoration-color: #00af00\">256</span>)        │       <span style=\"color: #00af00; text-decoration-color: #00af00\">394,240</span> │\n",
       "├─────────────────────────────────┼────────────────────────┼───────────────┤\n",
       "│ batch_normalization_1           │ (<span style=\"color: #00d7ff; text-decoration-color: #00d7ff\">None</span>, <span style=\"color: #00af00; text-decoration-color: #00af00\">30</span>, <span style=\"color: #00af00; text-decoration-color: #00af00\">256</span>)        │         <span style=\"color: #00af00; text-decoration-color: #00af00\">1,024</span> │\n",
       "│ (<span style=\"color: #0087ff; text-decoration-color: #0087ff\">BatchNormalization</span>)            │                        │               │\n",
       "├─────────────────────────────────┼────────────────────────┼───────────────┤\n",
       "│ lstm_2 (<span style=\"color: #0087ff; text-decoration-color: #0087ff\">LSTM</span>)                   │ (<span style=\"color: #00d7ff; text-decoration-color: #00d7ff\">None</span>, <span style=\"color: #00af00; text-decoration-color: #00af00\">128</span>)            │       <span style=\"color: #00af00; text-decoration-color: #00af00\">197,120</span> │\n",
       "├─────────────────────────────────┼────────────────────────┼───────────────┤\n",
       "│ dense (<span style=\"color: #0087ff; text-decoration-color: #0087ff\">Dense</span>)                   │ (<span style=\"color: #00d7ff; text-decoration-color: #00d7ff\">None</span>, <span style=\"color: #00af00; text-decoration-color: #00af00\">128</span>)            │        <span style=\"color: #00af00; text-decoration-color: #00af00\">16,512</span> │\n",
       "├─────────────────────────────────┼────────────────────────┼───────────────┤\n",
       "│ dropout (<span style=\"color: #0087ff; text-decoration-color: #0087ff\">Dropout</span>)               │ (<span style=\"color: #00d7ff; text-decoration-color: #00d7ff\">None</span>, <span style=\"color: #00af00; text-decoration-color: #00af00\">128</span>)            │             <span style=\"color: #00af00; text-decoration-color: #00af00\">0</span> │\n",
       "├─────────────────────────────────┼────────────────────────┼───────────────┤\n",
       "│ dense_1 (<span style=\"color: #0087ff; text-decoration-color: #0087ff\">Dense</span>)                 │ (<span style=\"color: #00d7ff; text-decoration-color: #00d7ff\">None</span>, <span style=\"color: #00af00; text-decoration-color: #00af00\">64</span>)             │         <span style=\"color: #00af00; text-decoration-color: #00af00\">8,256</span> │\n",
       "├─────────────────────────────────┼────────────────────────┼───────────────┤\n",
       "│ dense_2 (<span style=\"color: #0087ff; text-decoration-color: #0087ff\">Dense</span>)                 │ (<span style=\"color: #00d7ff; text-decoration-color: #00d7ff\">None</span>, <span style=\"color: #00af00; text-decoration-color: #00af00\">32</span>)             │         <span style=\"color: #00af00; text-decoration-color: #00af00\">2,080</span> │\n",
       "├─────────────────────────────────┼────────────────────────┼───────────────┤\n",
       "│ dense_3 (<span style=\"color: #0087ff; text-decoration-color: #0087ff\">Dense</span>)                 │ (<span style=\"color: #00d7ff; text-decoration-color: #00d7ff\">None</span>, <span style=\"color: #00af00; text-decoration-color: #00af00\">26</span>)             │           <span style=\"color: #00af00; text-decoration-color: #00af00\">858</span> │\n",
       "└─────────────────────────────────┴────────────────────────┴───────────────┘\n",
       "</pre>\n"
      ],
      "text/plain": [
       "┏━━━━━━━━━━━━━━━━━━━━━━━━━━━━━━━━━┳━━━━━━━━━━━━━━━━━━━━━━━━┳━━━━━━━━━━━━━━━┓\n",
       "┃\u001b[1m \u001b[0m\u001b[1mLayer (type)                   \u001b[0m\u001b[1m \u001b[0m┃\u001b[1m \u001b[0m\u001b[1mOutput Shape          \u001b[0m\u001b[1m \u001b[0m┃\u001b[1m \u001b[0m\u001b[1m      Param #\u001b[0m\u001b[1m \u001b[0m┃\n",
       "┡━━━━━━━━━━━━━━━━━━━━━━━━━━━━━━━━━╇━━━━━━━━━━━━━━━━━━━━━━━━╇━━━━━━━━━━━━━━━┩\n",
       "│ lstm (\u001b[38;5;33mLSTM\u001b[0m)                     │ (\u001b[38;5;45mNone\u001b[0m, \u001b[38;5;34m30\u001b[0m, \u001b[38;5;34m128\u001b[0m)        │       \u001b[38;5;34m130,560\u001b[0m │\n",
       "├─────────────────────────────────┼────────────────────────┼───────────────┤\n",
       "│ batch_normalization             │ (\u001b[38;5;45mNone\u001b[0m, \u001b[38;5;34m30\u001b[0m, \u001b[38;5;34m128\u001b[0m)        │           \u001b[38;5;34m512\u001b[0m │\n",
       "│ (\u001b[38;5;33mBatchNormalization\u001b[0m)            │                        │               │\n",
       "├─────────────────────────────────┼────────────────────────┼───────────────┤\n",
       "│ lstm_1 (\u001b[38;5;33mLSTM\u001b[0m)                   │ (\u001b[38;5;45mNone\u001b[0m, \u001b[38;5;34m30\u001b[0m, \u001b[38;5;34m256\u001b[0m)        │       \u001b[38;5;34m394,240\u001b[0m │\n",
       "├─────────────────────────────────┼────────────────────────┼───────────────┤\n",
       "│ batch_normalization_1           │ (\u001b[38;5;45mNone\u001b[0m, \u001b[38;5;34m30\u001b[0m, \u001b[38;5;34m256\u001b[0m)        │         \u001b[38;5;34m1,024\u001b[0m │\n",
       "│ (\u001b[38;5;33mBatchNormalization\u001b[0m)            │                        │               │\n",
       "├─────────────────────────────────┼────────────────────────┼───────────────┤\n",
       "│ lstm_2 (\u001b[38;5;33mLSTM\u001b[0m)                   │ (\u001b[38;5;45mNone\u001b[0m, \u001b[38;5;34m128\u001b[0m)            │       \u001b[38;5;34m197,120\u001b[0m │\n",
       "├─────────────────────────────────┼────────────────────────┼───────────────┤\n",
       "│ dense (\u001b[38;5;33mDense\u001b[0m)                   │ (\u001b[38;5;45mNone\u001b[0m, \u001b[38;5;34m128\u001b[0m)            │        \u001b[38;5;34m16,512\u001b[0m │\n",
       "├─────────────────────────────────┼────────────────────────┼───────────────┤\n",
       "│ dropout (\u001b[38;5;33mDropout\u001b[0m)               │ (\u001b[38;5;45mNone\u001b[0m, \u001b[38;5;34m128\u001b[0m)            │             \u001b[38;5;34m0\u001b[0m │\n",
       "├─────────────────────────────────┼────────────────────────┼───────────────┤\n",
       "│ dense_1 (\u001b[38;5;33mDense\u001b[0m)                 │ (\u001b[38;5;45mNone\u001b[0m, \u001b[38;5;34m64\u001b[0m)             │         \u001b[38;5;34m8,256\u001b[0m │\n",
       "├─────────────────────────────────┼────────────────────────┼───────────────┤\n",
       "│ dense_2 (\u001b[38;5;33mDense\u001b[0m)                 │ (\u001b[38;5;45mNone\u001b[0m, \u001b[38;5;34m32\u001b[0m)             │         \u001b[38;5;34m2,080\u001b[0m │\n",
       "├─────────────────────────────────┼────────────────────────┼───────────────┤\n",
       "│ dense_3 (\u001b[38;5;33mDense\u001b[0m)                 │ (\u001b[38;5;45mNone\u001b[0m, \u001b[38;5;34m26\u001b[0m)             │           \u001b[38;5;34m858\u001b[0m │\n",
       "└─────────────────────────────────┴────────────────────────┴───────────────┘\n"
      ]
     },
     "metadata": {},
     "output_type": "display_data"
    },
    {
     "data": {
      "text/html": [
       "<pre style=\"white-space:pre;overflow-x:auto;line-height:normal;font-family:Menlo,'DejaVu Sans Mono',consolas,'Courier New',monospace\"><span style=\"font-weight: bold\"> Total params: </span><span style=\"color: #00af00; text-decoration-color: #00af00\">751,162</span> (2.87 MB)\n",
       "</pre>\n"
      ],
      "text/plain": [
       "\u001b[1m Total params: \u001b[0m\u001b[38;5;34m751,162\u001b[0m (2.87 MB)\n"
      ]
     },
     "metadata": {},
     "output_type": "display_data"
    },
    {
     "data": {
      "text/html": [
       "<pre style=\"white-space:pre;overflow-x:auto;line-height:normal;font-family:Menlo,'DejaVu Sans Mono',consolas,'Courier New',monospace\"><span style=\"font-weight: bold\"> Trainable params: </span><span style=\"color: #00af00; text-decoration-color: #00af00\">750,394</span> (2.86 MB)\n",
       "</pre>\n"
      ],
      "text/plain": [
       "\u001b[1m Trainable params: \u001b[0m\u001b[38;5;34m750,394\u001b[0m (2.86 MB)\n"
      ]
     },
     "metadata": {},
     "output_type": "display_data"
    },
    {
     "data": {
      "text/html": [
       "<pre style=\"white-space:pre;overflow-x:auto;line-height:normal;font-family:Menlo,'DejaVu Sans Mono',consolas,'Courier New',monospace\"><span style=\"font-weight: bold\"> Non-trainable params: </span><span style=\"color: #00af00; text-decoration-color: #00af00\">768</span> (3.00 KB)\n",
       "</pre>\n"
      ],
      "text/plain": [
       "\u001b[1m Non-trainable params: \u001b[0m\u001b[38;5;34m768\u001b[0m (3.00 KB)\n"
      ]
     },
     "metadata": {},
     "output_type": "display_data"
    }
   ],
   "source": [
    "model.summary()"
   ]
  },
  {
   "cell_type": "code",
   "execution_count": 139,
   "metadata": {},
   "outputs": [
    {
     "name": "stdout",
     "output_type": "stream",
     "text": [
      "\u001b[1m44/44\u001b[0m \u001b[32m━━━━━━━━━━━━━━━━━━━━\u001b[0m\u001b[37m\u001b[0m \u001b[1m3s\u001b[0m 74ms/step - categorical_accuracy: 0.9971 - loss: 0.0161\n"
     ]
    },
    {
     "data": {
      "text/plain": [
       "<keras.src.callbacks.history.History at 0x1c4c0785810>"
      ]
     },
     "execution_count": 139,
     "metadata": {},
     "output_type": "execute_result"
    }
   ],
   "source": [
    "model.fit(X_train,y_train, epochs=1)"
   ]
  },
  {
   "cell_type": "code",
   "execution_count": 140,
   "metadata": {},
   "outputs": [
    {
     "name": "stdout",
     "output_type": "stream",
     "text": [
      "\u001b[1m5/5\u001b[0m \u001b[32m━━━━━━━━━━━━━━━━━━━━\u001b[0m\u001b[37m\u001b[0m \u001b[1m0s\u001b[0m 22ms/step\n"
     ]
    }
   ],
   "source": [
    "res = model.predict(X_test)"
   ]
  },
  {
   "cell_type": "code",
   "execution_count": 150,
   "metadata": {},
   "outputs": [
    {
     "data": {
      "text/plain": [
       "'H'"
      ]
     },
     "execution_count": 150,
     "metadata": {},
     "output_type": "execute_result"
    }
   ],
   "source": [
    "actions[np.argmax(res[2])]"
   ]
  },
  {
   "cell_type": "code",
   "execution_count": 154,
   "metadata": {},
   "outputs": [
    {
     "name": "stdout",
     "output_type": "stream",
     "text": [
      "A W H T R W J E R V F E M K X F T X A J S U F U V M B T D S X Q I T Y Q U Z Y H T L H U C C B X R W T X A E E B M T W Z G M H S M C F P R W J N L K F V U T N Q H F Z O N T F P L G D J Q G N R N G F F P P S V Y X G N H I I I O H G Z B T L T O F K N T C D K I C H H O Q K I N T E S O S T T I E T K V R Q S R A E X "
     ]
    }
   ],
   "source": [
    "y_pred = []\n",
    "for i in res:\n",
    "    print(actions[np.argmax(i)],end=\" \")\n",
    "    y_pred.append(np.argmax(i))"
   ]
  },
  {
   "cell_type": "code",
   "execution_count": 155,
   "metadata": {},
   "outputs": [
    {
     "name": "stdout",
     "output_type": "stream",
     "text": [
      "A W H T R W J E R V F E M K X F T X A J S U F U V M B T D S X Q I A Y Q U Z Y H A L H U C C B X R W T X A E E B M A W Z G M H S M C F P R W J N L K F V U T N Q H F Z O N A F P L G D J Q G N R N G F F P P S V Y X G N H I I I O H G Z B A L T O F K N T C D K I C H H O Q K I N T E S O S T T I E T K V R Q S R A E X "
     ]
    }
   ],
   "source": [
    "y_true = []\n",
    "for i in y_test:\n",
    "    print(actions[np.argmax(i)],end=\" \")\n",
    "    y_true.append(np.argmax(i))"
   ]
  },
  {
   "cell_type": "code",
   "execution_count": 60,
   "metadata": {},
   "outputs": [],
   "source": [
    "model.save('modek.keras')"
   ]
  },
  {
   "cell_type": "code",
   "execution_count": 156,
   "metadata": {},
   "outputs": [
    {
     "name": "stdout",
     "output_type": "stream",
     "text": [
      "Actual values: [0, 22, 7, 19, 17, 22, 9, 4, 17, 21, 5, 4, 12, 10, 23, 5, 19, 23, 0, 9, 18, 20, 5, 20, 21, 12, 1, 19, 3, 18, 23, 16, 8, 0, 24, 16, 20, 25, 24, 7, 0, 11, 7, 20, 2, 2, 1, 23, 17, 22, 19, 23, 0, 4, 4, 1, 12, 0, 22, 25, 6, 12, 7, 18, 12, 2, 5, 15, 17, 22, 9, 13, 11, 10, 5, 21, 20, 19, 13, 16, 7, 5, 25, 14, 13, 0, 5, 15, 11, 6, 3, 9, 16, 6, 13, 17, 13, 6, 5, 5, 15, 15, 18, 21, 24, 23, 6, 13, 7, 8, 8, 8, 14, 7, 6, 25, 1, 0, 11, 19, 14, 5, 10, 13, 19, 2, 3, 10, 8, 2, 7, 7, 14, 16, 10, 8, 13, 19, 4, 18, 14, 18, 19, 19, 8, 4, 19, 10, 21, 17, 16, 18, 17, 0, 4, 23]\n",
      "Predicted Value: [0, 22, 7, 19, 17, 22, 9, 4, 17, 21, 5, 4, 12, 10, 23, 5, 19, 23, 0, 9, 18, 20, 5, 20, 21, 12, 1, 19, 3, 18, 23, 16, 8, 19, 24, 16, 20, 25, 24, 7, 19, 11, 7, 20, 2, 2, 1, 23, 17, 22, 19, 23, 0, 4, 4, 1, 12, 19, 22, 25, 6, 12, 7, 18, 12, 2, 5, 15, 17, 22, 9, 13, 11, 10, 5, 21, 20, 19, 13, 16, 7, 5, 25, 14, 13, 19, 5, 15, 11, 6, 3, 9, 16, 6, 13, 17, 13, 6, 5, 5, 15, 15, 18, 21, 24, 23, 6, 13, 7, 8, 8, 8, 14, 7, 6, 25, 1, 19, 11, 19, 14, 5, 10, 13, 19, 2, 3, 10, 8, 2, 7, 7, 14, 16, 10, 8, 13, 19, 4, 18, 14, 18, 19, 19, 8, 4, 19, 10, 21, 17, 16, 18, 17, 0, 4, 23]\n"
     ]
    }
   ],
   "source": [
    "print(\"Actual values:\",y_true)\n",
    "print(\"Predicted Value:\",y_pred)"
   ]
  },
  {
   "cell_type": "code",
   "execution_count": 144,
   "metadata": {},
   "outputs": [
    {
     "name": "stdout",
     "output_type": "stream",
     "text": [
      "Classification Report: \n",
      "               precision    recall  f1-score   support\n",
      "\n",
      "           A       1.00      0.44      0.62         9\n",
      "           B       1.00      1.00      1.00         4\n",
      "           C       1.00      1.00      1.00         5\n",
      "           D       1.00      1.00      1.00         3\n",
      "           E       1.00      1.00      1.00         7\n",
      "           F       1.00      1.00      1.00        10\n",
      "           G       1.00      1.00      1.00         6\n",
      "           H       1.00      1.00      1.00         9\n",
      "           I       1.00      1.00      1.00         7\n",
      "           J       1.00      1.00      1.00         4\n",
      "           K       1.00      1.00      1.00         6\n",
      "           L       1.00      1.00      1.00         4\n",
      "           M       1.00      1.00      1.00         5\n",
      "           N       1.00      1.00      1.00         8\n",
      "           O       1.00      1.00      1.00         5\n",
      "           P       1.00      1.00      1.00         4\n",
      "           Q       1.00      1.00      1.00         6\n",
      "           R       1.00      1.00      1.00         7\n",
      "           S       1.00      1.00      1.00         7\n",
      "           T       0.69      1.00      0.81        11\n",
      "           U       1.00      1.00      1.00         5\n",
      "           V       1.00      1.00      1.00         5\n",
      "           W       1.00      1.00      1.00         5\n",
      "           X       1.00      1.00      1.00         7\n",
      "           Y       1.00      1.00      1.00         3\n",
      "           Z       1.00      1.00      1.00         4\n",
      "\n",
      "    accuracy                           0.97       156\n",
      "   macro avg       0.99      0.98      0.98       156\n",
      "weighted avg       0.98      0.97      0.96       156\n",
      "\n"
     ]
    }
   ],
   "source": [
    "from sklearn.metrics import classification_report\n",
    "print(\"Classification Report: \\n\", classification_report(actions[y_true], actions[y_pred]))"
   ]
  }
 ],
 "metadata": {
  "kernelspec": {
   "display_name": "Python 3",
   "language": "python",
   "name": "python3"
  },
  "language_info": {
   "codemirror_mode": {
    "name": "ipython",
    "version": 3
   },
   "file_extension": ".py",
   "mimetype": "text/x-python",
   "name": "python",
   "nbconvert_exporter": "python",
   "pygments_lexer": "ipython3",
   "version": "3.11.4"
  }
 },
 "nbformat": 4,
 "nbformat_minor": 2
}
